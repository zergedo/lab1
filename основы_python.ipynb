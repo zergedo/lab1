{
  "cells": [
    {
      "cell_type": "markdown",
      "metadata": {
        "id": "M-DGa20PaHnu"
      },
      "source": [
        "#Задача 1\n",
        "Написать функцию на вход которой подается строка, состоящая из латинских букв.\n",
        "Функция должна вернуть количество гласных букв (a, e, i, o, u) в этой строке. Написать тесты для кода"
      ]
    },
    {
      "cell_type": "code",
      "execution_count": 1,
      "metadata": {
        "id": "XvX8X_JJ6PCb"
      },
      "outputs": [
        {
          "name": "stdout",
          "output_type": "stream",
          "text": [
            "3\n",
            "0\n",
            "5\n",
            "0\n"
          ]
        }
      ],
      "source": [
        "def count_vowels(s: str) -> int:\n",
        "    vowels = \"aeiouAEIOU\"\n",
        "    return sum(1 for char in s if char in vowels)\n",
        "\n",
        "print(count_vowels(\"Example\"))\n",
        "print(count_vowels(\"Sky\")) \n",
        "print(count_vowels(\"AEIOU\")) \n",
        "print(count_vowels(\"BCDFG\"))  "
      ]
    },
    {
      "cell_type": "markdown",
      "metadata": {
        "id": "t2ClV_Y0bbr6"
      },
      "source": [
        "# Задача 2\n",
        "Написать функцию на вход, которой подается строка. Функция должна вернуть true, если\n",
        "каждый символ в строке встречается только 1 раз, иначе должна вернуть false. Написать тесты для кода"
      ]
    },
    {
      "cell_type": "code",
      "execution_count": 5,
      "metadata": {
        "id": "FppbECao6VIz"
      },
      "outputs": [
        {
          "name": "stdout",
          "output_type": "stream",
          "text": [
            "True\n",
            "False\n",
            "True\n",
            "True\n"
          ]
        }
      ],
      "source": [
        "def is_unique(s: str) -> bool:\n",
        "    return len(s) == len(set(s))\n",
        "\n",
        "print(is_unique(\"abcdef\")) \n",
        "print(is_unique(\"hello\"))  \n",
        "print(is_unique(\"\"))  \n",
        "print(is_unique(\"aA\"))  "
      ]
    },
    {
      "cell_type": "markdown",
      "metadata": {
        "id": "udRiIK1cdt6E"
      },
      "source": [
        "# Задача 3\n",
        "Написать функцию, которая принимает положительное число и возвращает количество\n",
        "бит равных 1 в этом числе. Написать тесты для кода"
      ]
    },
    {
      "cell_type": "code",
      "execution_count": 7,
      "metadata": {
        "id": "6tkfDJRz6dp_"
      },
      "outputs": [
        {
          "name": "stdout",
          "output_type": "stream",
          "text": [
            "2\n",
            "3\n",
            "0\n",
            "10\n"
          ]
        }
      ],
      "source": [
        "def count_bits(n: int) -> int:\n",
        "    return bin(n).count('1')\n",
        "\n",
        "print(count_bits(5))  \n",
        "print(count_bits(7))  \n",
        "print(count_bits(0))  \n",
        "print(count_bits(1023))  "
      ]
    },
    {
      "cell_type": "markdown",
      "metadata": {
        "id": "26dDUz-Ae17N"
      },
      "source": [
        "# Задача 4\n",
        "Написать функцию, которая принимает положительное число. Функция должна вернуть то,\n",
        "сколько раз необходимо перемножать цифры числа или результат перемножения, чтобы\n",
        "получилось число состоящее из одной цифры.\n",
        "Например, для входного числа:\n",
        "· 39 функция должна вернуть 3, так как 3*9=27 => 2*7=14 => 1*4=4\n",
        "· 4 функция должна вернуть 0, так как число уже состоит из одной цифры\n",
        "· 999 функция должна вернуть 4, так как 9*9*9=729 => 7*2*9=126 => 1*2*6=12 =>\n",
        "1*2=2. Написать тесты для кода"
      ]
    },
    {
      "cell_type": "code",
      "execution_count": 9,
      "metadata": {
        "id": "BH1A_Mgi6i4G"
      },
      "outputs": [
        {
          "name": "stdout",
          "output_type": "stream",
          "text": [
            "3\n",
            "0\n",
            "4\n",
            "1\n"
          ]
        }
      ],
      "source": [
        "def magic(n: int) -> int:\n",
        "    if n < 10:\n",
        "        return 0  \n",
        "    \n",
        "    count = 0\n",
        "    while n >= 10: \n",
        "        product = 1\n",
        "        while n > 0:\n",
        "            product *= n % 10  \n",
        "            n //= 10\n",
        "        n = product\n",
        "        count += 1\n",
        "        \n",
        "    return count\n",
        "\n",
        "print(magic(39))  \n",
        "print(magic(4))   \n",
        "print(magic(999)) \n",
        "print(magic(123)) "
      ]
    },
    {
      "cell_type": "markdown",
      "metadata": {
        "id": "0nS-kIa8g8vd"
      },
      "source": [
        "# Задача 5\n",
        "Написать функцию, которая принимает два целочисленных вектора одинаковой длины и\n",
        "возвращает среднеквадратическое отклонение двух векторов. Написать тесты для кода"
      ]
    },
    {
      "cell_type": "code",
      "execution_count": 16,
      "metadata": {
        "id": "8iphx4LM6xbx"
      },
      "outputs": [
        {
          "name": "stdout",
          "output_type": "stream",
          "text": [
            "0.0\n",
            "9.0\n",
            "1.0\n",
            "16.666666666666668\n",
            "0.0\n"
          ]
        }
      ],
      "source": [
        "def mse(pred, true):\n",
        "    return sum((p - t) ** 2 for p, t in zip(pred, true)) / len(pred) \n",
        "\n",
        "print(mse([1, 2, 3], [1, 2, 3])) \n",
        "print(mse([1, 2, 3], [4, 5, 6]))  \n",
        "print(mse([1, 0, 1], [0, 1, 0]))  \n",
        "print(mse([10, 20, 30], [10, 25, 35]))\n",
        "print(mse([5, 5, 5], [5, 5, 5]))"
      ]
    },
    {
      "cell_type": "markdown",
      "metadata": {
        "id": "vpIPKL439zkw"
      },
      "source": [
        "# Задача 6\n",
        "Написать функцию, принимающая целое положительное число. Функция должна вернуть\n",
        "строку вида “(n1**p1)(n2**p2)…(nk**pk)” представляющая разложение числа на простые\n",
        "множители (если pi == 1, то выводить только ni).\n",
        "Например, для числа 86240 функция должна вернуть “(2**5)(5)(7**2)(11)”. Написать тесты для кода"
      ]
    },
    {
      "cell_type": "code",
      "execution_count": 31,
      "metadata": {
        "id": "pFebmcZk94Jw"
      },
      "outputs": [
        {
          "name": "stdout",
          "output_type": "stream",
          "text": [
            "(2**5)(5)(7**2)(11)\n",
            "(2**2)(7)\n",
            "(2**2)(5**2)\n",
            "\n"
          ]
        }
      ],
      "source": [
        "def prime_factorization(n: int) -> str:\n",
        "    if n < 1:\n",
        "        return \"\"\n",
        "\n",
        "    factors = {}\n",
        "    divisor = 2\n",
        "\n",
        "    while n > 1:\n",
        "        while n % divisor == 0:\n",
        "            if divisor in factors:\n",
        "                factors[divisor] += 1\n",
        "            else:\n",
        "                factors[divisor] = 1\n",
        "            n //= divisor\n",
        "        divisor += 1\n",
        "\n",
        "    result = \"\"\n",
        "    for prime, count in factors.items():\n",
        "        if count == 1:\n",
        "            result += f\"({prime})\"\n",
        "        else:\n",
        "            result += f\"({prime}**{count})\"\n",
        "\n",
        "    return result\n",
        "\n",
        "print(prime_factorization(86240))   \n",
        "print(prime_factorization(28))     \n",
        "print(prime_factorization(100))     \n",
        "print(prime_factorization(1))       \n"
      ]
    },
    {
      "cell_type": "markdown",
      "metadata": {
        "id": "ps2s0BudX7A2"
      },
      "source": [
        "# Задача 7\n",
        "Написать функцию, принимающая целое число n, задающее количество кубиков. Функция\n",
        "должна определить, можно ли из данного кол-ва кубиков построить пирамиду, то есть\n",
        "можно ли представить число n как 1^2+2^2+3^2+…+k^2. Если можно, то функция должна\n",
        "вернуть k, иначе строку “It is impossible”. Написать тесты для кода"
      ]
    },
    {
      "cell_type": "code",
      "execution_count": 37,
      "metadata": {
        "id": "3YPjEXxhX_YT"
      },
      "outputs": [
        {
          "name": "stdout",
          "output_type": "stream",
          "text": [
            "1\n",
            "2\n",
            "It is impossible\n",
            "5\n"
          ]
        }
      ],
      "source": [
        "def pyramid(n: int) -> str:\n",
        "    k = 1\n",
        "    total = 0\n",
        "\n",
        "    while total < n:\n",
        "        total += k ** 2\n",
        "        if total == n:\n",
        "            return k\n",
        "        k += 1\n",
        "\n",
        "    return \"It is impossible\"\n",
        "\n",
        "print(pyramid(1))   \n",
        "print(pyramid(5))    \n",
        "print(pyramid(6))    \n",
        "print(pyramid(55)) "
      ]
    },
    {
      "cell_type": "markdown",
      "metadata": {
        "id": "KeKgmIdAQMEJ"
      },
      "source": [
        "# Задача 8\n",
        "Функция принимает на вход положительное число и определяет является ли оно сбалансированным, т.е. сумма цифр до средних равна сумме цифр после. Средними в случае нечетного числа цифр считать одну цифру, в случае четного - две средних. Написать тесты для кода"
      ]
    },
    {
      "cell_type": "code",
      "execution_count": 44,
      "metadata": {
        "id": "gMAAqtqlQrZt"
      },
      "outputs": [
        {
          "name": "stdout",
          "output_type": "stream",
          "text": [
            "True\n",
            "False\n",
            "False\n",
            "True\n"
          ]
        }
      ],
      "source": [
        "def is_balanced(n: int) -> bool:\n",
        "    digits = str(n)\n",
        "    length = len(digits)\n",
        "\n",
        "    if length % 2 == 0:\n",
        "        mid1 = length // 2 - 1\n",
        "        mid2 = length // 2\n",
        "        left_sum = sum(int(d) for d in digits[:mid1 + 1])\n",
        "        right_sum = sum(int(d) for d in digits[mid2:])\n",
        "    else:\n",
        "        mid = length // 2\n",
        "        left_sum = sum(int(d) for d in digits[:mid])\n",
        "        right_sum = sum(int(d) for d in digits[mid + 1:])\n",
        "\n",
        "    return left_sum == right_sum\n",
        "\n",
        "print(is_balanced(123321))\n",
        "print(is_balanced(123456))  \n",
        "print(is_balanced(1234567)) \n",
        "print(is_balanced(0))   "
      ]
    }
  ],
  "metadata": {
    "colab": {
      "provenance": []
    },
    "kernelspec": {
      "display_name": "Python 3",
      "name": "python3"
    },
    "language_info": {
      "codemirror_mode": {
        "name": "ipython",
        "version": 3
      },
      "file_extension": ".py",
      "mimetype": "text/x-python",
      "name": "python",
      "nbconvert_exporter": "python",
      "pygments_lexer": "ipython3",
      "version": "3.12.3"
    }
  },
  "nbformat": 4,
  "nbformat_minor": 0
}
